{
 "cells": [
  {
   "cell_type": "code",
   "execution_count": 85,
   "id": "43a2f8e5-0714-4585-8397-d48075391a0a",
   "metadata": {},
   "outputs": [],
   "source": [
    "import numpy as np\n",
    "import pandas as pd\n",
    "import matplotlib.pyplot as plt\n",
    "from sqlalchemy import create_engine\n",
    "import pymysql"
   ]
  },
  {
   "cell_type": "code",
   "execution_count": 86,
   "id": "2f0239ff-c4eb-47bf-993c-e00c1878308b",
   "metadata": {},
   "outputs": [],
   "source": [
    "import os\n",
    "import gc\n",
    "from IPython.display import clear_output"
   ]
  },
  {
   "cell_type": "code",
   "execution_count": 87,
   "id": "d21dbfe1-d2fe-43bb-9f3c-6514ae56f8c1",
   "metadata": {},
   "outputs": [],
   "source": [
    "import tensorflow.keras as keras\n",
    "from sklearn.model_selection import train_test_split"
   ]
  },
  {
   "cell_type": "code",
   "execution_count": 89,
   "id": "c9a7e3c8-80c2-42a7-a3f9-c32d5669fdfb",
   "metadata": {},
   "outputs": [],
   "source": [
    "def create_model(X_train):\n",
    "    model = keras.models.Sequential(\n",
    "        [\n",
    "            keras.layers.Dense(1024,activation=\"relu\",input_shape=(X_train.shape[1],)),\n",
    "            keras.layers.Dropout(0.2),\n",
    "            keras.layers.Dense(512,activation=\"relu\"),\n",
    "            keras.layers.BatchNormalization(),\n",
    "            keras.layers.Dense(256,activation=\"relu\"),\n",
    "            keras.layers.Dense(128),\n",
    "            keras.layers.Dropout(0.2),\n",
    "            keras.layers.Dense(64),\n",
    "            keras.layers.BatchNormalization(),\n",
    "            keras.layers.Dense(32),\n",
    "            keras.layers.Dense(1)\n",
    "        ]\n",
    "    )\n",
    "    \n",
    "    model.summary()\n",
    "    return model"
   ]
  },
  {
   "cell_type": "code",
   "execution_count": 90,
   "id": "1dc4f9bf-5ff1-49e6-af92-de77df215adb",
   "metadata": {},
   "outputs": [],
   "source": [
    "data = pd.read_csv(\"refined_data.csv\")"
   ]
  },
  {
   "cell_type": "code",
   "execution_count": 91,
   "id": "81ce282b-7259-486c-b865-c08668d761f2",
   "metadata": {},
   "outputs": [],
   "source": [
    "data_locations = np.unique(data.LOC)"
   ]
  },
  {
   "cell_type": "code",
   "execution_count": 92,
   "id": "eaeb62da-3eef-4901-b8f2-fffb2b7e4a61",
   "metadata": {
    "scrolled": true
   },
   "outputs": [
    {
     "name": "stdout",
     "output_type": "stream",
     "text": [
      "==================================================\n",
      "충북 End fitting\n",
      "==================================================\n",
      "97/97 [==============================] - 0s 2ms/step - loss: 14311546.0000\n",
      "비교용 평균치: 68064804.86385848\n",
      "\n"
     ]
    }
   ],
   "source": [
    "for location in data_locations:\n",
    "    print(location, \"모델 작업중...\")\n",
    "    \n",
    "    data = pd.read_csv(\"refined_data.csv\")\n",
    "    data = data.iloc[:,1:]\n",
    "    data = data.drop([378451,378809,379999,291246,141024])\n",
    "    data = data.loc[(data.SI>0) &(data.value != 0)].loc[data.LOC==location][[\"WS\",\"TA\",\"TD\",\"HM\",\"PV\",\"VS\",\"SS\",\"SI\",\"TS\",\"value\"]]\n",
    "    value_mean = data.value.mean()\n",
    "    \n",
    "    X_raw = data.iloc[:,:-1]\n",
    "    y_raw = data.iloc[:,-1]\n",
    "    X_, X_test, y_, y_test = train_test_split(X_raw, y_raw, test_size=0.2)\n",
    "    X_train, X_validation, y_train, y_validation = train_test_split(X_, y_, test_size=0.2)\n",
    "    \n",
    "    del(X_, y_, X_raw, y_raw, data)\n",
    "    gc.collect()\n",
    "    \n",
    "    if os.path.isfile(f'./testModels/{location}_model.h5'):\n",
    "        model = keras.models.load_model(f'./testModels/{location}_model.h5',compile=False)\n",
    "        print(\"\\n model +1 강 \\n\")\n",
    "    else:\n",
    "        model = create_model(X_train)\n",
    "        print(\"\\n model 제작 \\n\")\n",
    "        print()\n",
    "\n",
    "    model.compile(optimizer=\"adam\", loss=\"mean_absolute_error\")\n",
    "    check_point_cb = keras.callbacks.ModelCheckpoint(f'./testModels/{location}_model.h5', save_best_only=True)\n",
    "    model.fit(X_train, y_train, epochs=20, validation_data=(X_validation, y_validation), callbacks=[check_point_cb])\n",
    "    clear_output()\n",
    "    \n",
    "    print(\"=\"*50)\n",
    "    print(location, \"End fitting\")\n",
    "    print(\"=\"*50)\n",
    "    model.evaluate(X_test,y_test)\n",
    "    print(\"비교용 평균치:\",value_mean)\n",
    "    print()\n",
    "    "
   ]
  },
  {
   "cell_type": "code",
   "execution_count": null,
   "id": "9884a0c1-7655-4b6a-93f4-8027b0d91eac",
   "metadata": {},
   "outputs": [],
   "source": []
  },
  {
   "cell_type": "code",
   "execution_count": null,
   "id": "bc03c3d9-05fd-497b-96e9-908b9a47d640",
   "metadata": {},
   "outputs": [],
   "source": []
  }
 ],
 "metadata": {
  "kernelspec": {
   "display_name": "Python 3 (ipykernel)",
   "language": "python",
   "name": "python3"
  },
  "language_info": {
   "codemirror_mode": {
    "name": "ipython",
    "version": 3
   },
   "file_extension": ".py",
   "mimetype": "text/x-python",
   "name": "python",
   "nbconvert_exporter": "python",
   "pygments_lexer": "ipython3",
   "version": "3.11.5"
  }
 },
 "nbformat": 4,
 "nbformat_minor": 5
}
